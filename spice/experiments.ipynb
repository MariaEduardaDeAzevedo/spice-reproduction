{
 "cells": [
  {
   "cell_type": "code",
   "execution_count": 1,
   "id": "4692c0b9",
   "metadata": {},
   "outputs": [
    {
     "name": "stderr",
     "output_type": "stream",
     "text": [
      "/home/mariaeas/pesquisa/reproducao/env/lib/python3.11/site-packages/tqdm/auto.py:21: TqdmWarning: IProgress not found. Please update jupyter and ipywidgets. See https://ipywidgets.readthedocs.io/en/stable/user_install.html\n",
      "  from .autonotebook import tqdm as notebook_tqdm\n"
     ]
    }
   ],
   "source": [
    "from parser.parser import SpiceParser"
   ]
  },
  {
   "cell_type": "code",
   "execution_count": 2,
   "id": "d65c4cb2",
   "metadata": {},
   "outputs": [
    {
     "name": "stderr",
     "output_type": "stream",
     "text": [
      "Downloading https://raw.githubusercontent.com/stanfordnlp/stanza-resources/main/resources_1.10.0.json: 432kB [00:00, 31.6MB/s]                    \n",
      "2025-06-13 08:52:52 INFO: Downloaded file to /home/mariaeas/stanza_resources/resources.json\n",
      "2025-06-13 08:52:52 INFO: Downloading default packages for language: pt (Portuguese) ...\n"
     ]
    },
    {
     "name": "stderr",
     "output_type": "stream",
     "text": [
      "2025-06-13 08:52:53 INFO: File exists: /home/mariaeas/stanza_resources/pt/default.zip\n",
      "2025-06-13 08:53:00 INFO: Finished downloading models and saved to /home/mariaeas/stanza_resources\n",
      "2025-06-13 08:53:00 INFO: Checking for updates to resources.json in case models have been updated.  Note: this behavior can be turned off with download_method=None or download_method=DownloadMethod.REUSE_RESOURCES\n",
      "Downloading https://raw.githubusercontent.com/stanfordnlp/stanza-resources/main/resources_1.10.0.json: 432kB [00:00, 24.4MB/s]                    \n",
      "2025-06-13 08:53:00 INFO: Downloaded file to /home/mariaeas/stanza_resources/resources.json\n",
      "2025-06-13 08:53:00 WARNING: Language pt package default expects mwt, which has been added\n",
      "2025-06-13 08:53:01 INFO: Loading these models for language: pt (Portuguese):\n",
      "===============================\n",
      "| Processor | Package         |\n",
      "-------------------------------\n",
      "| tokenize  | bosque          |\n",
      "| mwt       | bosque          |\n",
      "| pos       | bosque_charlm   |\n",
      "| lemma     | bosque_nocharlm |\n",
      "| depparse  | bosque_charlm   |\n",
      "===============================\n",
      "\n",
      "2025-06-13 08:53:02 INFO: Using device: cpu\n",
      "2025-06-13 08:53:02 INFO: Loading: tokenize\n",
      "2025-06-13 08:53:03 INFO: Loading: mwt\n",
      "2025-06-13 08:53:03 INFO: Loading: pos\n",
      "2025-06-13 08:53:05 INFO: Loading: lemma\n",
      "2025-06-13 08:53:05 INFO: Loading: depparse\n",
      "2025-06-13 08:53:05 INFO: Done loading processors!\n"
     ]
    }
   ],
   "source": [
    "parser = SpiceParser(lang=\"pt\", wn_model=\"own-pt:1.0.0\")"
   ]
  },
  {
   "cell_type": "code",
   "execution_count": 3,
   "id": "58bc50b9",
   "metadata": {},
   "outputs": [],
   "source": [
    "graph = parser.parse(\"A menina feliz entregou dois livros de romance para o amigo ontem.\")"
   ]
  },
  {
   "cell_type": "code",
   "execution_count": 4,
   "id": "a288a74a",
   "metadata": {},
   "outputs": [
    {
     "data": {
      "text/plain": [
       "defaultdict(set, {'menina': {'feliz'}, 'livro': {'dois', 'romance'}})"
      ]
     },
     "execution_count": 4,
     "metadata": {},
     "output_type": "execute_result"
    }
   ],
   "source": [
    "graph.attributes"
   ]
  },
  {
   "cell_type": "code",
   "execution_count": 5,
   "id": "2ea45d7d",
   "metadata": {},
   "outputs": [
    {
     "data": {
      "text/plain": [
       "{'amigo', 'livro', 'menina', 'romance'}"
      ]
     },
     "execution_count": 5,
     "metadata": {},
     "output_type": "execute_result"
    }
   ],
   "source": [
    "graph.objects"
   ]
  },
  {
   "cell_type": "code",
   "execution_count": 6,
   "id": "02bda787",
   "metadata": {},
   "outputs": [
    {
     "data": {
      "text/plain": [
       "defaultdict(set, {('menina', 'entregar'): {'amigo'}})"
      ]
     },
     "execution_count": 6,
     "metadata": {},
     "output_type": "execute_result"
    }
   ],
   "source": [
    "graph.relations"
   ]
  }
 ],
 "metadata": {
  "kernelspec": {
   "display_name": "env",
   "language": "python",
   "name": "python3"
  },
  "language_info": {
   "codemirror_mode": {
    "name": "ipython",
    "version": 3
   },
   "file_extension": ".py",
   "mimetype": "text/x-python",
   "name": "python",
   "nbconvert_exporter": "python",
   "pygments_lexer": "ipython3",
   "version": "3.11.7"
  }
 },
 "nbformat": 4,
 "nbformat_minor": 5
}
